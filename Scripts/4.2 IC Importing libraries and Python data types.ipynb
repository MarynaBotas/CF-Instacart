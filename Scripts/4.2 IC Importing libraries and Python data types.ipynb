{
 "cells": [
  {
   "cell_type": "markdown",
   "id": "0aa562a0-595b-475e-bb18-60114902395d",
   "metadata": {},
   "source": [
    "#01.Importing Libraries"
   ]
  },
  {
   "cell_type": "code",
   "execution_count": 1,
   "id": "cd75fdd6-bef6-4492-9416-594ac0f18875",
   "metadata": {},
   "outputs": [],
   "source": [
    "# Import Libraries\n",
    "import pandas as pd\n",
    "import numpy as np\n",
    "import os"
   ]
  },
  {
   "cell_type": "markdown",
   "id": "7fed1fdc-20fb-4b8c-bb67-4684c7253c27",
   "metadata": {},
   "source": [
    "#02.Data Types"
   ]
  },
  {
   "cell_type": "code",
   "execution_count": 21,
   "id": "a0adae81-5d4d-4384-b9e5-ab37d4776766",
   "metadata": {},
   "outputs": [],
   "source": [
    "#3 different ways of reaching a result of 100 by adding or subtracting numeric variables\n",
    "x=75\n",
    "y=25\n",
    "z=50"
   ]
  },
  {
   "cell_type": "code",
   "execution_count": 22,
   "id": "f0720963-62af-46e1-b4e1-5428a6f4ffbf",
   "metadata": {},
   "outputs": [
    {
     "data": {
      "text/plain": [
       "100"
      ]
     },
     "execution_count": 22,
     "metadata": {},
     "output_type": "execute_result"
    }
   ],
   "source": [
    "x+y"
   ]
  },
  {
   "cell_type": "code",
   "execution_count": 23,
   "id": "e9d45685-114a-4697-b3b1-b9d67a2ce129",
   "metadata": {},
   "outputs": [
    {
     "data": {
      "text/plain": [
       "100"
      ]
     },
     "execution_count": 23,
     "metadata": {},
     "output_type": "execute_result"
    }
   ],
   "source": [
    "y+y+z"
   ]
  },
  {
   "cell_type": "code",
   "execution_count": 24,
   "id": "19a83678-c8fe-4a8b-bca9-7b6e8c00d44b",
   "metadata": {},
   "outputs": [
    {
     "data": {
      "text/plain": [
       "100"
      ]
     },
     "execution_count": 24,
     "metadata": {},
     "output_type": "execute_result"
    }
   ],
   "source": [
    "x+z-y"
   ]
  },
  {
   "cell_type": "code",
   "execution_count": 26,
   "id": "72934c0e-54b0-4c1a-9496-bcf0e66f9f57",
   "metadata": {},
   "outputs": [],
   "source": [
    "#Division of 2 floating-point variables\n",
    "a=3.4\n",
    "b=2.1"
   ]
  },
  {
   "cell_type": "code",
   "execution_count": 27,
   "id": "f865ff66-a625-44e2-8951-4b2476d69405",
   "metadata": {},
   "outputs": [
    {
     "data": {
      "text/plain": [
       "1.6190476190476188"
      ]
     },
     "execution_count": 27,
     "metadata": {},
     "output_type": "execute_result"
    }
   ],
   "source": [
    "a/b"
   ]
  },
  {
   "cell_type": "code",
   "execution_count": 28,
   "id": "41257299-8c84-48d8-b654-ea5de48c7ef2",
   "metadata": {},
   "outputs": [
    {
     "data": {
      "text/plain": [
       "'CareerFoundry'"
      ]
     },
     "execution_count": 28,
     "metadata": {},
     "output_type": "execute_result"
    }
   ],
   "source": [
    "# Constructing a short word\n",
    "c='Career'\n",
    "f='Foundry'\n",
    "c+f"
   ]
  },
  {
   "cell_type": "code",
   "execution_count": 37,
   "id": "3043cb3e-b1a1-4e71-a2e0-e92f5c2ec04f",
   "metadata": {},
   "outputs": [],
   "source": [
    "# Constructing two short sentences\n",
    "part1='Hello, '\n",
    "part2='friend!'\n",
    "part3='See you '\n",
    "part4='tomorrow!'"
   ]
  },
  {
   "cell_type": "code",
   "execution_count": 38,
   "id": "bd69aa46-4a4f-49dd-b1a3-f5046be0c370",
   "metadata": {},
   "outputs": [
    {
     "data": {
      "text/plain": [
       "'Hello, friend!'"
      ]
     },
     "execution_count": 38,
     "metadata": {},
     "output_type": "execute_result"
    }
   ],
   "source": [
    "part1+part2"
   ]
  },
  {
   "cell_type": "code",
   "execution_count": 39,
   "id": "4232a64c-a56e-43b7-9585-fa99a4e6ef6e",
   "metadata": {},
   "outputs": [
    {
     "data": {
      "text/plain": [
       "'See you tomorrow!'"
      ]
     },
     "execution_count": 39,
     "metadata": {},
     "output_type": "execute_result"
    }
   ],
   "source": [
    "part3+part4"
   ]
  },
  {
   "cell_type": "code",
   "execution_count": 40,
   "id": "63d38d62-aad8-4382-91c2-770a3928d361",
   "metadata": {},
   "outputs": [
    {
     "data": {
      "text/plain": [
       "'pythonpythonpythonpythonpythonpythonpythonpythonpythonpythonpythonpythonpythonpythonpythonpythonpythonpythonpythonpythonpythonpythonpythonpythonpythonpythonpythonpythonpythonpythonpythonpythonpythonpythonpythonpythonpythonpythonpythonpythonpythonpythonpythonpythonpythonpythonpythonpythonpythonpythonpythonpythonpythonpythonpythonpythonpythonpythonpythonpythonpythonpythonpythonpythonpythonpythonpythonpythonpythonpythonpythonpythonpythonpythonpythonpythonpythonpythonpythonpythonpythonpythonpythonpythonpythonpythonpythonpythonpythonpythonpythonpythonpythonpythonpythonpythonpythonpythonpythonpython'"
      ]
     },
     "execution_count": 40,
     "metadata": {},
     "output_type": "execute_result"
    }
   ],
   "source": [
    "# String's multiplication\n",
    "n='python'\n",
    "n*100"
   ]
  }
 ],
 "metadata": {
  "kernelspec": {
   "display_name": "Python 3 (ipykernel)",
   "language": "python",
   "name": "python3"
  },
  "language_info": {
   "codemirror_mode": {
    "name": "ipython",
    "version": 3
   },
   "file_extension": ".py",
   "mimetype": "text/x-python",
   "name": "python",
   "nbconvert_exporter": "python",
   "pygments_lexer": "ipython3",
   "version": "3.11.8"
  }
 },
 "nbformat": 4,
 "nbformat_minor": 5
}
