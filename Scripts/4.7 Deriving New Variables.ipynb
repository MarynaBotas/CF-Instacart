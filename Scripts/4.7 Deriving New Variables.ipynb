{
 "cells": [
  {
   "cell_type": "markdown",
   "id": "9d7d2b83-6c45-45be-848e-f5373bd1d2d2",
   "metadata": {},
   "source": [
    "# 4.7 Deriving New Variables"
   ]
  },
  {
   "cell_type": "markdown",
   "id": "6c533e90-e1b8-4841-9e9e-dbf36fada7c5",
   "metadata": {},
   "source": [
    "### This script contains the following points:\r\n",
    "1. Importing Libraries\r\n",
    "2. Importing Data \r\n",
    "3. Checking Data\r\n",
    "4. Creating 'price label' column\r\n",
    "5. Creating 'busiest_day' column\r\n",
    "6. Creating 'busiest_days' column\r\n",
    "7. Creating 'busiest_period_of_day' column\r\n",
    "8. Exporting Data"
   ]
  },
  {
   "cell_type": "markdown",
   "id": "b1046cf5-4724-4ef5-a6b2-85aba1f882a6",
   "metadata": {},
   "source": [
    "# 01. Importing Libraries"
   ]
  },
  {
   "cell_type": "code",
   "execution_count": 47,
   "id": "ebd26ca3-f9a0-495a-80c3-52c2ceb8ec8f",
   "metadata": {},
   "outputs": [],
   "source": [
    "# Import libraries\n",
    "import pandas as pd\n",
    "import numpy as np\n",
    "import os"
   ]
  },
  {
   "cell_type": "markdown",
   "id": "3eca57b8-e2e9-4792-9d63-708c3c246439",
   "metadata": {},
   "source": [
    "# 02. Importing Data"
   ]
  },
  {
   "cell_type": "code",
   "execution_count": 48,
   "id": "e74a5d6f-ca3f-410c-8ae8-465233e2767a",
   "metadata": {},
   "outputs": [],
   "source": [
    "# Project folder path\n",
    "path=r'C:\\Users\\maryn\\Documents\\Data Projects\\Instacart Basket Analysis'"
   ]
  },
  {
   "cell_type": "code",
   "execution_count": 49,
   "id": "aca92c23-9032-4fca-83cb-c03bcb20a584",
   "metadata": {},
   "outputs": [],
   "source": [
    "# Import dataset orders_products_merged.pkl\n",
    "df_ords_prods = pd.read_pickle(os.path.join(path, '02 Data', 'Prepared Data', 'orders_products_merged_1.pkl'))"
   ]
  },
  {
   "cell_type": "markdown",
   "id": "bf9dd87b-6320-4e48-a162-53ab41e63842",
   "metadata": {},
   "source": [
    "# 03. Checking Data"
   ]
  },
  {
   "cell_type": "code",
   "execution_count": 50,
   "id": "38f0e153-5d5d-473e-b144-ff6176ba6ab1",
   "metadata": {},
   "outputs": [
    {
     "data": {
      "text/html": [
       "<div>\n",
       "<style scoped>\n",
       "    .dataframe tbody tr th:only-of-type {\n",
       "        vertical-align: middle;\n",
       "    }\n",
       "\n",
       "    .dataframe tbody tr th {\n",
       "        vertical-align: top;\n",
       "    }\n",
       "\n",
       "    .dataframe thead th {\n",
       "        text-align: right;\n",
       "    }\n",
       "</style>\n",
       "<table border=\"1\" class=\"dataframe\">\n",
       "  <thead>\n",
       "    <tr style=\"text-align: right;\">\n",
       "      <th></th>\n",
       "      <th>order_id</th>\n",
       "      <th>user_id</th>\n",
       "      <th>order_number</th>\n",
       "      <th>orders_day_of_week</th>\n",
       "      <th>order_hour_of_day</th>\n",
       "      <th>days_since_prior_order</th>\n",
       "      <th>product_id</th>\n",
       "      <th>add_to_cart_order</th>\n",
       "      <th>reordered</th>\n",
       "      <th>product_name</th>\n",
       "      <th>aisle_id</th>\n",
       "      <th>department_id</th>\n",
       "      <th>prices</th>\n",
       "      <th>_merge</th>\n",
       "    </tr>\n",
       "  </thead>\n",
       "  <tbody>\n",
       "    <tr>\n",
       "      <th>0</th>\n",
       "      <td>2539329</td>\n",
       "      <td>1</td>\n",
       "      <td>1</td>\n",
       "      <td>2</td>\n",
       "      <td>8</td>\n",
       "      <td>NaN</td>\n",
       "      <td>196</td>\n",
       "      <td>1</td>\n",
       "      <td>0</td>\n",
       "      <td>Soda</td>\n",
       "      <td>77</td>\n",
       "      <td>7</td>\n",
       "      <td>9.0</td>\n",
       "      <td>both</td>\n",
       "    </tr>\n",
       "    <tr>\n",
       "      <th>1</th>\n",
       "      <td>2398795</td>\n",
       "      <td>1</td>\n",
       "      <td>2</td>\n",
       "      <td>3</td>\n",
       "      <td>7</td>\n",
       "      <td>15.0</td>\n",
       "      <td>196</td>\n",
       "      <td>1</td>\n",
       "      <td>1</td>\n",
       "      <td>Soda</td>\n",
       "      <td>77</td>\n",
       "      <td>7</td>\n",
       "      <td>9.0</td>\n",
       "      <td>both</td>\n",
       "    </tr>\n",
       "    <tr>\n",
       "      <th>2</th>\n",
       "      <td>473747</td>\n",
       "      <td>1</td>\n",
       "      <td>3</td>\n",
       "      <td>3</td>\n",
       "      <td>12</td>\n",
       "      <td>21.0</td>\n",
       "      <td>196</td>\n",
       "      <td>1</td>\n",
       "      <td>1</td>\n",
       "      <td>Soda</td>\n",
       "      <td>77</td>\n",
       "      <td>7</td>\n",
       "      <td>9.0</td>\n",
       "      <td>both</td>\n",
       "    </tr>\n",
       "    <tr>\n",
       "      <th>3</th>\n",
       "      <td>2254736</td>\n",
       "      <td>1</td>\n",
       "      <td>4</td>\n",
       "      <td>4</td>\n",
       "      <td>7</td>\n",
       "      <td>29.0</td>\n",
       "      <td>196</td>\n",
       "      <td>1</td>\n",
       "      <td>1</td>\n",
       "      <td>Soda</td>\n",
       "      <td>77</td>\n",
       "      <td>7</td>\n",
       "      <td>9.0</td>\n",
       "      <td>both</td>\n",
       "    </tr>\n",
       "    <tr>\n",
       "      <th>4</th>\n",
       "      <td>431534</td>\n",
       "      <td>1</td>\n",
       "      <td>5</td>\n",
       "      <td>4</td>\n",
       "      <td>15</td>\n",
       "      <td>28.0</td>\n",
       "      <td>196</td>\n",
       "      <td>1</td>\n",
       "      <td>1</td>\n",
       "      <td>Soda</td>\n",
       "      <td>77</td>\n",
       "      <td>7</td>\n",
       "      <td>9.0</td>\n",
       "      <td>both</td>\n",
       "    </tr>\n",
       "  </tbody>\n",
       "</table>\n",
       "</div>"
      ],
      "text/plain": [
       "   order_id  user_id  order_number  orders_day_of_week  order_hour_of_day  \\\n",
       "0   2539329        1             1                   2                  8   \n",
       "1   2398795        1             2                   3                  7   \n",
       "2    473747        1             3                   3                 12   \n",
       "3   2254736        1             4                   4                  7   \n",
       "4    431534        1             5                   4                 15   \n",
       "\n",
       "   days_since_prior_order  product_id  add_to_cart_order  reordered  \\\n",
       "0                     NaN         196                  1          0   \n",
       "1                    15.0         196                  1          1   \n",
       "2                    21.0         196                  1          1   \n",
       "3                    29.0         196                  1          1   \n",
       "4                    28.0         196                  1          1   \n",
       "\n",
       "  product_name  aisle_id  department_id  prices _merge  \n",
       "0         Soda        77              7     9.0   both  \n",
       "1         Soda        77              7     9.0   both  \n",
       "2         Soda        77              7     9.0   both  \n",
       "3         Soda        77              7     9.0   both  \n",
       "4         Soda        77              7     9.0   both  "
      ]
     },
     "execution_count": 50,
     "metadata": {},
     "output_type": "execute_result"
    }
   ],
   "source": [
    "# Display the information orders_products_merged.pkl\n",
    "df_ords_prods.head()"
   ]
  },
  {
   "cell_type": "code",
   "execution_count": 51,
   "id": "6d7a6e5b-d4d7-409e-861c-b38a6255fe92",
   "metadata": {},
   "outputs": [
    {
     "data": {
      "text/plain": [
       "(32404859, 14)"
      ]
     },
     "execution_count": 51,
     "metadata": {},
     "output_type": "execute_result"
    }
   ],
   "source": [
    "df_ords_prods.shape"
   ]
  },
  {
   "cell_type": "code",
   "execution_count": 52,
   "id": "eac85788-6f31-4129-8394-757ff8f1444e",
   "metadata": {},
   "outputs": [
    {
     "data": {
      "text/plain": [
       "order_id                        0\n",
       "user_id                         0\n",
       "order_number                    0\n",
       "orders_day_of_week              0\n",
       "order_hour_of_day               0\n",
       "days_since_prior_order    2076096\n",
       "product_id                      0\n",
       "add_to_cart_order               0\n",
       "reordered                       0\n",
       "product_name                    0\n",
       "aisle_id                        0\n",
       "department_id                   0\n",
       "prices                          0\n",
       "_merge                          0\n",
       "dtype: int64"
      ]
     },
     "execution_count": 52,
     "metadata": {},
     "output_type": "execute_result"
    }
   ],
   "source": [
    "df_ords_prods.isnull().sum()"
   ]
  },
  {
   "cell_type": "markdown",
   "id": "eccc7486-6512-445c-b03c-1efc5a12f027",
   "metadata": {},
   "source": [
    "# 04. Creating 'price label' column"
   ]
  },
  {
   "cell_type": "markdown",
   "id": "6ce0af2b-7142-400d-b51f-99b384f62900",
   "metadata": {},
   "source": [
    "### If-Statements with User-Defined Functions"
   ]
  },
  {
   "cell_type": "code",
   "execution_count": 53,
   "id": "7b15decb-0164-43b6-9abe-a4f1ddc0ac7a",
   "metadata": {},
   "outputs": [],
   "source": [
    "# Create a subset of first million rows\n",
    "df = df_ords_prods[:1000000]"
   ]
  },
  {
   "cell_type": "code",
   "execution_count": 54,
   "id": "d81211db-6ed4-4f5b-a764-a82c019cf008",
   "metadata": {},
   "outputs": [
    {
     "data": {
      "text/plain": [
       "(1000000, 14)"
      ]
     },
     "execution_count": 54,
     "metadata": {},
     "output_type": "execute_result"
    }
   ],
   "source": [
    "df.shape"
   ]
  },
  {
   "cell_type": "code",
   "execution_count": 55,
   "id": "8018389e-0d84-4828-963c-14d4a39820b7",
   "metadata": {},
   "outputs": [],
   "source": [
    "# Define a function for 'price label'\n",
    "\n",
    "def price_label(row):\n",
    "\n",
    "  if row['prices'] <= 5:\n",
    "    return 'Low-range product'\n",
    "  elif (row['prices'] > 5) and (row['prices'] <= 15):\n",
    "    return 'Mid-range product'\n",
    "  elif row['prices'] > 15:\n",
    "    return 'High-range product'\n",
    "  else: return 'Not enough data'"
   ]
  },
  {
   "cell_type": "code",
   "execution_count": 56,
   "id": "45ebb780-9c06-4ba8-9e1a-467a67948831",
   "metadata": {},
   "outputs": [
    {
     "name": "stderr",
     "output_type": "stream",
     "text": [
      "C:\\Users\\maryn\\AppData\\Local\\Temp\\ipykernel_8752\\4070824963.py:2: SettingWithCopyWarning: \n",
      "A value is trying to be set on a copy of a slice from a DataFrame.\n",
      "Try using .loc[row_indexer,col_indexer] = value instead\n",
      "\n",
      "See the caveats in the documentation: https://pandas.pydata.org/pandas-docs/stable/user_guide/indexing.html#returning-a-view-versus-a-copy\n",
      "  df['price_range'] = df.apply(price_label, axis=1)\n"
     ]
    }
   ],
   "source": [
    "# Apply a function to a new column called 'price_range'\n",
    "df['price_range'] = df.apply(price_label, axis=1)"
   ]
  },
  {
   "cell_type": "code",
   "execution_count": 57,
   "id": "d008f88e-896d-4da3-a472-449cdb7154cd",
   "metadata": {},
   "outputs": [
    {
     "data": {
      "text/plain": [
       "price_range\n",
       "Mid-range product    756450\n",
       "Low-range product    243550\n",
       "Name: count, dtype: int64"
      ]
     },
     "execution_count": 57,
     "metadata": {},
     "output_type": "execute_result"
    }
   ],
   "source": [
    "df['price_range'].value_counts(dropna = False)"
   ]
  },
  {
   "cell_type": "code",
   "execution_count": 58,
   "id": "f5a4889f-dd46-4cc6-91dc-ebd2430a015e",
   "metadata": {},
   "outputs": [
    {
     "data": {
      "text/plain": [
       "14.8"
      ]
     },
     "execution_count": 58,
     "metadata": {},
     "output_type": "execute_result"
    }
   ],
   "source": [
    "df['prices'].max()"
   ]
  },
  {
   "cell_type": "markdown",
   "id": "101a3d3a-fc98-484f-890b-9e1ce71a8865",
   "metadata": {},
   "source": [
    "### If-Statements with the loc() Function"
   ]
  },
  {
   "cell_type": "markdown",
   "id": "bb2a9b40-22a4-42b0-bbc7-6c21121b30b5",
   "metadata": {},
   "source": [
    "#### Use loc() method to apply price range function to subset"
   ]
  },
  {
   "cell_type": "code",
   "execution_count": 59,
   "id": "83b2344a-faa1-4996-98e4-6b802350cec0",
   "metadata": {},
   "outputs": [
    {
     "name": "stderr",
     "output_type": "stream",
     "text": [
      "C:\\Users\\maryn\\AppData\\Local\\Temp\\ipykernel_8752\\1169838859.py:1: SettingWithCopyWarning: \n",
      "A value is trying to be set on a copy of a slice from a DataFrame.\n",
      "Try using .loc[row_indexer,col_indexer] = value instead\n",
      "\n",
      "See the caveats in the documentation: https://pandas.pydata.org/pandas-docs/stable/user_guide/indexing.html#returning-a-view-versus-a-copy\n",
      "  df.loc[df['prices'] > 15, 'price_range_loc'] = 'High-range product'\n"
     ]
    }
   ],
   "source": [
    "df.loc[df['prices'] > 15, 'price_range_loc'] = 'High-range product'"
   ]
  },
  {
   "cell_type": "code",
   "execution_count": 60,
   "id": "15e383bb-e1f7-494e-a784-c9c3fbb47fda",
   "metadata": {},
   "outputs": [],
   "source": [
    "df.loc[(df['prices'] <= 15) & (df['prices'] > 5), 'price_range_loc'] = 'Mid-range product'"
   ]
  },
  {
   "cell_type": "code",
   "execution_count": 61,
   "id": "9a1448f2-a2d6-4d2a-9683-0f629a47059a",
   "metadata": {},
   "outputs": [],
   "source": [
    "df.loc[df['prices'] <= 5, 'price_range_loc'] = 'Low-range product'"
   ]
  },
  {
   "cell_type": "code",
   "execution_count": 62,
   "id": "c4c59bd2-7e74-4ff9-ba32-8a589e3408b1",
   "metadata": {},
   "outputs": [
    {
     "data": {
      "text/plain": [
       "price_range_loc\n",
       "Mid-range product    756450\n",
       "Low-range product    243550\n",
       "Name: count, dtype: int64"
      ]
     },
     "execution_count": 62,
     "metadata": {},
     "output_type": "execute_result"
    }
   ],
   "source": [
    "df['price_range_loc'].value_counts(dropna = False)"
   ]
  },
  {
   "cell_type": "markdown",
   "id": "b5987ff1-9ca8-47e4-ad17-a34c54d3df9c",
   "metadata": {},
   "source": [
    "#### Use loc() method to apply price range function to the entire dataframe"
   ]
  },
  {
   "cell_type": "code",
   "execution_count": 63,
   "id": "ffcd430d-ef01-4860-a965-9ac8de69b890",
   "metadata": {},
   "outputs": [],
   "source": [
    "df_ords_prods.loc[df_ords_prods['prices'] > 15, 'price_range_loc'] = 'High-range product'"
   ]
  },
  {
   "cell_type": "code",
   "execution_count": 64,
   "id": "4eb0ae79-9418-4f07-849b-fc1adc652caf",
   "metadata": {},
   "outputs": [],
   "source": [
    "df_ords_prods.loc[(df_ords_prods['prices'] <= 15) & (df_ords_prods['prices'] > 5), 'price_range_loc'] = 'Mid-range product'"
   ]
  },
  {
   "cell_type": "code",
   "execution_count": 65,
   "id": "79bf11e8-388a-4f6a-8397-a730cffd3011",
   "metadata": {},
   "outputs": [],
   "source": [
    "df_ords_prods.loc[df_ords_prods['prices'] <= 5, 'price_range_loc'] = 'Low-range product'"
   ]
  },
  {
   "cell_type": "code",
   "execution_count": 66,
   "id": "15db3d30-64cf-4648-8d78-c7cc0bfdd60d",
   "metadata": {},
   "outputs": [
    {
     "data": {
      "text/plain": [
       "price_range_loc\n",
       "Mid-range product     21860860\n",
       "Low-range product     10126321\n",
       "High-range product      417678\n",
       "Name: count, dtype: int64"
      ]
     },
     "execution_count": 66,
     "metadata": {},
     "output_type": "execute_result"
    }
   ],
   "source": [
    "df_ords_prods['price_range_loc'].value_counts(dropna = False)"
   ]
  },
  {
   "cell_type": "markdown",
   "id": "af1b19bf-6b40-4f29-9e21-a89938b11ec8",
   "metadata": {},
   "source": [
    "# 05. Creating 'busiest_day' column"
   ]
  },
  {
   "cell_type": "code",
   "execution_count": 67,
   "id": "e790779d-ca73-4596-86f8-9e25f54b391d",
   "metadata": {},
   "outputs": [
    {
     "data": {
      "text/plain": [
       "orders_day_of_week\n",
       "0    6204182\n",
       "1    5660230\n",
       "6    4496490\n",
       "2    4213830\n",
       "5    4205791\n",
       "3    3840534\n",
       "4    3783802\n",
       "Name: count, dtype: int64"
      ]
     },
     "execution_count": 67,
     "metadata": {},
     "output_type": "execute_result"
    }
   ],
   "source": [
    "# View the frequency of a column 'orders_day_of_week'\n",
    "df_ords_prods['orders_day_of_week'].value_counts(dropna = False)"
   ]
  },
  {
   "cell_type": "code",
   "execution_count": 68,
   "id": "2f7e578a-bc40-4517-8fa5-02babd414c98",
   "metadata": {},
   "outputs": [],
   "source": [
    "# Use for-loop to label the orders as \"busiest day\" (0 = Saturday), \"least busy\" (4 = Wednesday), or \"regularly busy\" (other days)\n",
    "\n",
    "result = []\n",
    "\n",
    "for value in df_ords_prods[\"orders_day_of_week\"]:\n",
    "  if value == 0:\n",
    "    result.append(\"Busiest day\")\n",
    "  elif value == 4:\n",
    "    result.append(\"Least busy\")\n",
    "  else:\n",
    "    result.append(\"Regularly busy\")"
   ]
  },
  {
   "cell_type": "code",
   "execution_count": 69,
   "id": "46031a3b-0a2a-45ca-a802-4b761f903615",
   "metadata": {},
   "outputs": [],
   "source": [
    "# Add the values in result to a new column in df_ords_prods\n",
    "df_ords_prods['busiest_day'] = result"
   ]
  },
  {
   "cell_type": "code",
   "execution_count": 70,
   "id": "0c20416c-3155-40b7-84da-e6eed281e4c6",
   "metadata": {},
   "outputs": [
    {
     "data": {
      "text/plain": [
       "busiest_day\n",
       "Regularly busy    22416875\n",
       "Busiest day        6204182\n",
       "Least busy         3783802\n",
       "Name: count, dtype: int64"
      ]
     },
     "execution_count": 70,
     "metadata": {},
     "output_type": "execute_result"
    }
   ],
   "source": [
    "df_ords_prods['busiest_day'].value_counts(dropna = False)"
   ]
  },
  {
   "cell_type": "markdown",
   "id": "306f3a39-5163-4205-b7ae-ae0d15734b6f",
   "metadata": {},
   "source": [
    "# 06. Creating 'busiest_days' column"
   ]
  },
  {
   "cell_type": "code",
   "execution_count": 71,
   "id": "1209d388-5d62-4c9e-98b5-4e5b6f4b66a5",
   "metadata": {},
   "outputs": [],
   "source": [
    "# Use for-loop to label the orders as \"busiest days\" (0 = Saturday, 1 = Sunday), \"lowest days\" (3 = Tuesday, 4 = Wednesday), or \"regularly busy days\" (other days)\n",
    "\n",
    "result_2 = []\n",
    "\n",
    "for value in df_ords_prods['orders_day_of_week']:\n",
    "  if value == 0 or value == 1:\n",
    "    result_2.append('Busiest days')\n",
    "  elif value == 3 or value == 4:\n",
    "    result_2.append('Slowest days')\n",
    "  else:\n",
    "    result_2.append('Regularly busy days')"
   ]
  },
  {
   "cell_type": "code",
   "execution_count": 72,
   "id": "e872847a-4650-456f-9e46-abecf9ba531a",
   "metadata": {},
   "outputs": [],
   "source": [
    "# Add the values in result_2 to a new column 'busiest_days' in df_ords_prods\n",
    "df_ords_prods['busiest_days'] = result_2"
   ]
  },
  {
   "cell_type": "code",
   "execution_count": 73,
   "id": "0239634b-2073-4ba6-83a0-fa3cc825faca",
   "metadata": {},
   "outputs": [
    {
     "data": {
      "text/plain": [
       "busiest_days\n",
       "Regularly busy days    12916111\n",
       "Busiest days           11864412\n",
       "Slowest days            7624336\n",
       "Name: count, dtype: int64"
      ]
     },
     "execution_count": 73,
     "metadata": {},
     "output_type": "execute_result"
    }
   ],
   "source": [
    "df_ords_prods['busiest_days'].value_counts(dropna = False)"
   ]
  },
  {
   "cell_type": "markdown",
   "id": "de9b33bc-7e40-469e-8d11-99e46e44cf89",
   "metadata": {},
   "source": [
    "### The values in this new column 'busiest days' look accurate and correspond to the values in the columns 'orders_day_of_week' and 'busiest day'."
   ]
  },
  {
   "cell_type": "markdown",
   "id": "5f6d3fa4-a4ff-4ff8-840c-51000813d06c",
   "metadata": {},
   "source": [
    "# 07. Creating 'busiest_period_of_day' column"
   ]
  },
  {
   "cell_type": "code",
   "execution_count": 74,
   "id": "0882c249-9fc3-4387-b084-5f21f038511a",
   "metadata": {},
   "outputs": [
    {
     "data": {
      "text/plain": [
       "order_hour_of_day\n",
       "10    2761760\n",
       "11    2736140\n",
       "14    2689136\n",
       "15    2662144\n",
       "13    2660954\n",
       "12    2618532\n",
       "16    2535202\n",
       "9     2454203\n",
       "17    2087654\n",
       "8     1718118\n",
       "18    1636502\n",
       "19    1258305\n",
       "20     976156\n",
       "7      891054\n",
       "21     795637\n",
       "22     634225\n",
       "23     402316\n",
       "6      290493\n",
       "0      218769\n",
       "1      115700\n",
       "5       87961\n",
       "2       69375\n",
       "4       53242\n",
       "3       51281\n",
       "Name: count, dtype: int64"
      ]
     },
     "execution_count": 74,
     "metadata": {},
     "output_type": "execute_result"
    }
   ],
   "source": [
    "# View the frequency of a column 'order_hour_of_day'\n",
    "df_ords_prods['order_hour_of_day'].value_counts(dropna = False)"
   ]
  },
  {
   "cell_type": "markdown",
   "id": "81b7f165-06b1-4ef1-8099-97377b7dfcf2",
   "metadata": {},
   "source": [
    "### The value counts listed above are evenly divided into equal thirds for the following labels: 'Most orders' = 10, 11, 14, 15, 13, 12, 16, 9; 'Fewest orders' = 23, 6, 0, 1, 5, 2, 4, 3; 'Average orders' = all remaining values in order_hour_of_day."
   ]
  },
  {
   "cell_type": "code",
   "execution_count": 75,
   "id": "0b5cf483-73e6-4c9f-a6d5-78c7981dd4aa",
   "metadata": {},
   "outputs": [],
   "source": [
    "# # Use for-loop to label the orders in 'busiest_period_of_day' as 'Most orders', 'Average orders', and 'Fewest orders'.\n",
    "\n",
    "result_3 = []\n",
    "\n",
    "for value in df_ords_prods['order_hour_of_day']:\n",
    "  if value in [10, 11, 14, 15, 13, 12, 16, 9]:\n",
    "    result_3.append('Most orders')\n",
    "  elif value in [23, 6, 0, 1, 5, 2, 4, 3]:\n",
    "    result_3.append('Fewest orders')\n",
    "  else:\n",
    "    result_3.append('Average orders')"
   ]
  },
  {
   "cell_type": "code",
   "execution_count": 76,
   "id": "57c4e7d7-c420-43f3-8b9a-f024730a7d2d",
   "metadata": {},
   "outputs": [],
   "source": [
    "# Add the values in result_3 to a new column 'busiest_period_of_day' in df_ords_prods\n",
    "df_ords_prods['busiest_period_of_day'] = result_3"
   ]
  },
  {
   "cell_type": "code",
   "execution_count": 77,
   "id": "45758854-60ff-49ab-9b8d-733a1e6b74a2",
   "metadata": {},
   "outputs": [
    {
     "data": {
      "text/plain": [
       "busiest_period_of_day\n",
       "Most orders       21118071\n",
       "Average orders     9997651\n",
       "Fewest orders      1289137\n",
       "Name: count, dtype: int64"
      ]
     },
     "execution_count": 77,
     "metadata": {},
     "output_type": "execute_result"
    }
   ],
   "source": [
    "df_ords_prods['busiest_period_of_day'].value_counts(dropna = False)"
   ]
  },
  {
   "cell_type": "markdown",
   "id": "86f1eb6f-eacc-446c-9476-ca0adea2e105",
   "metadata": {},
   "source": [
    "# 08. Exporting Data"
   ]
  },
  {
   "cell_type": "code",
   "execution_count": 78,
   "id": "aa229418-e314-4bb8-b1cc-668287d3dad3",
   "metadata": {},
   "outputs": [],
   "source": [
    "# Exporting df_ords_prods_merge as a orders_products_merged.pkl in pickle format\n",
    "df_ords_prods.to_pickle(os.path.join(path, '02 Data','Prepared Data', 'orders_products_merged_derived.pkl'))"
   ]
  }
 ],
 "metadata": {
  "kernelspec": {
   "display_name": "Python 3 (ipykernel)",
   "language": "python",
   "name": "python3"
  },
  "language_info": {
   "codemirror_mode": {
    "name": "ipython",
    "version": 3
   },
   "file_extension": ".py",
   "mimetype": "text/x-python",
   "name": "python",
   "nbconvert_exporter": "python",
   "pygments_lexer": "ipython3",
   "version": "3.11.8"
  }
 },
 "nbformat": 4,
 "nbformat_minor": 5
}
